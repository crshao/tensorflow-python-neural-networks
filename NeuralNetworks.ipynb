{
  "nbformat": 4,
  "nbformat_minor": 0,
  "metadata": {
    "colab": {
      "name": "NeuralNetworks.ipynb",
      "provenance": [],
      "collapsed_sections": [],
      "authorship_tag": "ABX9TyMAAihAg2+7amSM5aUGQYdq",
      "include_colab_link": true
    },
    "kernelspec": {
      "name": "python3",
      "display_name": "Python 3"
    }
  },
  "cells": [
    {
      "cell_type": "markdown",
      "metadata": {
        "id": "view-in-github",
        "colab_type": "text"
      },
      "source": [
        "<a href=\"https://colab.research.google.com/github/crshao/tensorflow-python-neural-networks/blob/main/NeuralNetworks.ipynb\" target=\"_parent\"><img src=\"https://colab.research.google.com/assets/colab-badge.svg\" alt=\"Open In Colab\"/></a>"
      ]
    },
    {
      "cell_type": "code",
      "metadata": {
        "id": "YhqlP_1YFHR-"
      },
      "source": [
        "# Setup\r\n",
        "%tensorflow_version 2.x\r\n",
        "import tensorflow as tf\r\n",
        "from tensorflow import keras\r\n",
        "\r\n",
        "import numpy as np\r\n",
        "import matplotlib.pyplot as plt"
      ],
      "execution_count": 1,
      "outputs": []
    },
    {
      "cell_type": "code",
      "metadata": {
        "colab": {
          "base_uri": "https://localhost:8080/"
        },
        "id": "-zgerEkILhWf",
        "outputId": "eee7fb9e-b743-400a-a457-614533c0ab14"
      },
      "source": [
        "# Using MINST Fashion Dataset\r\n",
        "# includes 60k images for training and 10k for testing\r\n",
        "\r\n",
        "fashion_mnist = keras.datasets.fashion_mnist\r\n",
        "\r\n",
        "(train_images, train_labels), (test_images, test_labels) = fashion_mnist.load_data() #split into testing and training"
      ],
      "execution_count": 2,
      "outputs": [
        {
          "output_type": "stream",
          "text": [
            "Downloading data from https://storage.googleapis.com/tensorflow/tf-keras-datasets/train-labels-idx1-ubyte.gz\n",
            "32768/29515 [=================================] - 0s 0us/step\n",
            "Downloading data from https://storage.googleapis.com/tensorflow/tf-keras-datasets/train-images-idx3-ubyte.gz\n",
            "26427392/26421880 [==============================] - 0s 0us/step\n",
            "Downloading data from https://storage.googleapis.com/tensorflow/tf-keras-datasets/t10k-labels-idx1-ubyte.gz\n",
            "8192/5148 [===============================================] - 0s 0us/step\n",
            "Downloading data from https://storage.googleapis.com/tensorflow/tf-keras-datasets/t10k-images-idx3-ubyte.gz\n",
            "4423680/4422102 [==============================] - 0s 0us/step\n"
          ],
          "name": "stdout"
        }
      ]
    },
    {
      "cell_type": "code",
      "metadata": {
        "colab": {
          "base_uri": "https://localhost:8080/"
        },
        "id": "K8r7Xbd8MADZ",
        "outputId": "19ca5cd0-7780-4cd7-e5c3-e69a09e54780"
      },
      "source": [
        "train_images.shape # 60k images 28x28 pixels"
      ],
      "execution_count": 3,
      "outputs": [
        {
          "output_type": "execute_result",
          "data": {
            "text/plain": [
              "(60000, 28, 28)"
            ]
          },
          "metadata": {
            "tags": []
          },
          "execution_count": 3
        }
      ]
    },
    {
      "cell_type": "code",
      "metadata": {
        "colab": {
          "base_uri": "https://localhost:8080/"
        },
        "id": "j8-0xSoaMJPq",
        "outputId": "25350f92-71a3-41a2-fcc1-e128ab541401"
      },
      "source": [
        "train_images[0, 23, 23] # one pixel\r\n",
        "# our pixel values are between 0 and 255, 0 being black and 255 being white"
      ],
      "execution_count": 4,
      "outputs": [
        {
          "output_type": "execute_result",
          "data": {
            "text/plain": [
              "194"
            ]
          },
          "metadata": {
            "tags": []
          },
          "execution_count": 4
        }
      ]
    },
    {
      "cell_type": "code",
      "metadata": {
        "colab": {
          "base_uri": "https://localhost:8080/"
        },
        "id": "T29kOGDAMT8v",
        "outputId": "42e848cb-1025-49b8-b9df-413e0558cbc3"
      },
      "source": [
        "train_labels[:10] # first 10 training labels\r\n",
        "# our labels are integers ranging from 0-9. Each integer represents a specific article of clothing.\r\n",
        "# We'll create an array of label names to indicate which is which"
      ],
      "execution_count": 5,
      "outputs": [
        {
          "output_type": "execute_result",
          "data": {
            "text/plain": [
              "array([9, 0, 0, 3, 0, 2, 7, 2, 5, 5], dtype=uint8)"
            ]
          },
          "metadata": {
            "tags": []
          },
          "execution_count": 5
        }
      ]
    },
    {
      "cell_type": "code",
      "metadata": {
        "id": "6efujyWuMgBn"
      },
      "source": [
        "class_names = ['T-shirt/top', 'Trouser', 'Pullover', 'Dress', 'Coat',\r\n",
        "               'Sandal', 'Shirt', 'Sneaker', 'Bag', 'Ankle boot']"
      ],
      "execution_count": 6,
      "outputs": []
    },
    {
      "cell_type": "code",
      "metadata": {
        "colab": {
          "base_uri": "https://localhost:8080/",
          "height": 265
        },
        "id": "1GTipUrANj96",
        "outputId": "36369d78-1bb6-4a5e-d517-469379475c68"
      },
      "source": [
        "plt.figure()\r\n",
        "plt.imshow(train_images[10])\r\n",
        "plt.colorbar()\r\n",
        "plt.grid(False)\r\n",
        "plt.show()"
      ],
      "execution_count": 7,
      "outputs": [
        {
          "output_type": "display_data",
          "data": {
            "image/png": "[encoded data removed]",
            "text/plain": [
              "<Figure size 432x288 with 2 Axes>"
            ]
          },
          "metadata": {
            "tags": [],
            "needs_background": "light"
          }
        }
      ]
    },
    {
      "cell_type": "code",
      "metadata": {
        "id": "v0yEFBEQN3V9"
      },
      "source": [
        "# Data Pre-processing\r\n",
        "\r\n",
        "train_images = train_images / 255.0\r\n",
        "test_images = test_images / 255.0"
      ],
      "execution_count": 8,
      "outputs": []
    },
    {
      "cell_type": "code",
      "metadata": {
        "id": "JW5uHAw0N_yu"
      },
      "source": [
        "# Building the model\r\n",
        "\r\n",
        "model = keras.Sequential([\r\n",
        "    keras.layers.Flatten(input_shape=(28, 28)), # input layer(1)\r\n",
        "    keras.layers.Dense(128, activation='relu'), # hidden layer(2)\r\n",
        "    keras.layers.Dense(10, activation='softmax') # output layer(3)\r\n",
        "])"
      ],
      "execution_count": 9,
      "outputs": []
    },
    {
      "cell_type": "code",
      "metadata": {
        "id": "TyQOyfQDOgYi"
      },
      "source": [
        "# Compile the model\r\n",
        "model.compile(optimizer='adam',\r\n",
        "              loss='sparse_categorical_crossentropy',\r\n",
        "              metrics=['accuracy'])"
      ],
      "execution_count": 10,
      "outputs": []
    },
    {
      "cell_type": "code",
      "metadata": {
        "colab": {
          "base_uri": "https://localhost:8080/"
        },
        "id": "7Z9D1RUHHRIH",
        "outputId": "00a8d195-55e7-4971-9581-3441907f3a63"
      },
      "source": [
        "# Training the model\r\n",
        "model.fit(train_images, train_labels, epochs=8)"
      ],
      "execution_count": 14,
      "outputs": [
        {
          "output_type": "stream",
          "text": [
            "Epoch 1/8\n",
            "1875/1875 [==============================] - 3s 2ms/step - loss: 0.2319 - accuracy: 0.9138\n",
            "Epoch 2/8\n",
            "1875/1875 [==============================] - 3s 2ms/step - loss: 0.2251 - accuracy: 0.9157\n",
            "Epoch 3/8\n",
            "1875/1875 [==============================] - 3s 2ms/step - loss: 0.2158 - accuracy: 0.9201\n",
            "Epoch 4/8\n",
            "1875/1875 [==============================] - 4s 2ms/step - loss: 0.2096 - accuracy: 0.9214\n",
            "Epoch 5/8\n",
            "1875/1875 [==============================] - 3s 2ms/step - loss: 0.2046 - accuracy: 0.9236\n",
            "Epoch 6/8\n",
            "1875/1875 [==============================] - 3s 2ms/step - loss: 0.1977 - accuracy: 0.9260\n",
            "Epoch 7/8\n",
            "1875/1875 [==============================] - 3s 2ms/step - loss: 0.1935 - accuracy: 0.9285\n",
            "Epoch 8/8\n",
            "1875/1875 [==============================] - 3s 2ms/step - loss: 0.1887 - accuracy: 0.9305\n"
          ],
          "name": "stdout"
        },
        {
          "output_type": "execute_result",
          "data": {
            "text/plain": [
              "<tensorflow.python.keras.callbacks.History at 0x7fe9ef1e9860>"
            ]
          },
          "metadata": {
            "tags": []
          },
          "execution_count": 14
        }
      ]
    },
    {
      "cell_type": "code",
      "metadata": {
        "colab": {
          "base_uri": "https://localhost:8080/"
        },
        "id": "cD7JCuGlLBON",
        "outputId": "99a79a2c-a28d-495b-fc50-07aac99001db"
      },
      "source": [
        "# Evaluating the model\r\n",
        "test_loss, test_acc = model.evaluate(test_images, test_labels, verbose=1)\r\n",
        "\r\n",
        "print('Test accuracy:', test_acc)"
      ],
      "execution_count": 15,
      "outputs": [
        {
          "output_type": "stream",
          "text": [
            "313/313 [==============================] - 0s 1ms/step - loss: 0.3622 - accuracy: 0.8864\n",
            "Test accuracy: 0.8863999843597412\n"
          ],
          "name": "stdout"
        }
      ]
    },
    {
      "cell_type": "code",
      "metadata": {
        "colab": {
          "base_uri": "https://localhost:8080/",
          "height": 286
        },
        "id": "gfguDzXzRiSD",
        "outputId": "9f23365e-26e2-45d2-e000-d194d02d0d5a"
      },
      "source": [
        "# Making predictions\r\n",
        "predictions = model.predict(test_images)\r\n",
        "indexx = np.argmax(predictions[2])\r\n",
        "print(class_names[indexx])\r\n",
        "\r\n",
        "plt.figure()\r\n",
        "plt.imshow(test_images[2])\r\n",
        "plt.colorbar()\r\n",
        "plt.grid(False)\r\n",
        "plt.show()"
      ],
      "execution_count": 25,
      "outputs": [
        {
          "output_type": "stream",
          "text": [
            "Trouser\n"
          ],
          "name": "stdout"
        },
        {
          "output_type": "display_data",
          "data": {
            "image/png": "[encoded data removed]",
            "text/plain": [
              "<Figure size 432x288 with 2 Axes>"
            ]
          },
          "metadata": {
            "tags": [],
            "needs_background": "light"
          }
        }
      ]
    },
    {
      "cell_type": "code",
      "metadata": {
        "colab": {
          "base_uri": "https://localhost:8080/"
        },
        "id": "Wb1FJpVDRqFD",
        "outputId": "edb45c76-d54d-4c71-a93e-ff87057c9b3f"
      },
      "source": [
        "test_images.shape"
      ],
      "execution_count": 17,
      "outputs": [
        {
          "output_type": "execute_result",
          "data": {
            "text/plain": [
              "(10000, 28, 28)"
            ]
          },
          "metadata": {
            "tags": []
          },
          "execution_count": 17
        }
      ]
    },
    {
      "cell_type": "code",
      "metadata": {
        "colab": {
          "base_uri": "https://localhost:8080/",
          "height": 312
        },
        "id": "BozjKEalTArW",
        "outputId": "bf817b36-55bf-41c7-e6e2-2c5f79018268"
      },
      "source": [
        "# Verifying Predictions\r\n",
        "\r\n",
        "COLOR = 'white'\r\n",
        "plt.rcParams['text.color'] = COLOR\r\n",
        "plt.rcParams['axes.labelcolor'] = COLOR\r\n",
        "\r\n",
        "def predict(model, image, correct_label):\r\n",
        "  class_names = ['T-shirt/top', 'Trouser', 'Pullover', 'Dress', 'Coat',\r\n",
        "                 'Sandal', 'Shirt', 'Sneaker', 'Bag', 'Ankle boot']\r\n",
        "  prediction = model.predict(np.array([image]))\r\n",
        "  predicted_class = class_names[np.argmax(prediction)]\r\n",
        "\r\n",
        "  show_image(image, class_names[correct_label], predicted_class)\r\n",
        "\r\n",
        "def show_image(img, label, guess):\r\n",
        "  plt.figure()\r\n",
        "  plt.imshow(img, cmap=plt.cm.binary)\r\n",
        "  plt.title(\"Expected: \" + label)\r\n",
        "  plt.xlabel(\"Guess: \" + guess)\r\n",
        "  plt.colorbar()\r\n",
        "  plt.grid(False)\r\n",
        "  plt.show()\r\n",
        "\r\n",
        "def get_number():\r\n",
        "  while True:\r\n",
        "    num = input(\"Pick a number: \")\r\n",
        "    if num.isdigit():\r\n",
        "      num = int(num)\r\n",
        "      if 0 <= num <= 1000:\r\n",
        "        return int(num)\r\n",
        "    else:\r\n",
        "      print(\"Try again..\")\r\n",
        "\r\n",
        "num = get_number()\r\n",
        "image = test_images[num]\r\n",
        "label = test_labels[num]\r\n",
        "predict(model, image, label)\r\n"
      ],
      "execution_count": 30,
      "outputs": [
        {
          "output_type": "stream",
          "text": [
            "Pick a number: 47\n"
          ],
          "name": "stdout"
        },
        {
          "output_type": "display_data",
          "data": {
            "image/png": "[encoded data removed]",
            "text/plain": [
              "<Figure size 432x288 with 2 Axes>"
            ]
          },
          "metadata": {
            "tags": [],
            "needs_background": "light"
          }
        }
      ]
    }
  ]
}