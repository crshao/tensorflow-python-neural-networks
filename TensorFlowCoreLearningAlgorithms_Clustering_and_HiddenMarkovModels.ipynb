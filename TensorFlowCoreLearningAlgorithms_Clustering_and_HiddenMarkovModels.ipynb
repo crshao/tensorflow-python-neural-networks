{
  "nbformat": 4,
  "nbformat_minor": 0,
  "metadata": {
    "colab": {
      "name": "TensorFlowCoreLearningAlgorithms-Clustering_and_HiddenMarkovModels.ipynb",
      "provenance": [],
      "collapsed_sections": [],
      "authorship_tag": "ABX9TyMTDrV/W9oeGru37L2KQLsF",
      "include_colab_link": true
    },
    "kernelspec": {
      "name": "python3",
      "display_name": "Python 3"
    }
  },
  "cells": [
    {
      "cell_type": "markdown",
      "metadata": {
        "id": "view-in-github",
        "colab_type": "text"
      },
      "source": [
        "<a href=\"https://colab.research.google.com/github/crshao/tensorflow-python-neural-networks/blob/main/TensorFlowCoreLearningAlgorithms_Clustering_and_HiddenMarkovModels.ipynb\" target=\"_parent\"><img src=\"https://colab.research.google.com/assets/colab-badge.svg\" alt=\"Open In Colab\"/></a>"
      ]
    },
    {
      "cell_type": "code",
      "metadata": {
        "id": "cO92fvGET2aH"
      },
      "source": [
        "# Clustering\r\n",
        "# is Unsupervised Learning Algorithm\r\n",
        "# Usually used when datasets do not have labels\r\n",
        "\r\n",
        "# Basic algorithm for k-means:\r\n",
        "# Step 1: Randomly pick K points to place K centroids\r\n",
        "# Step 2: Assign all of the data points to the centroids by distance. The closest centroid to a point is the one it is assigned to\r\n",
        "# Step 3: Average all of the points belonging to each centroid to find the middle of those clusters (center of mass). Place the corresponding\r\n",
        "# centroids into that position\r\n",
        "# Step 4: Reassign every point once again to the closest centroid.\r\n",
        "# Step 5: Repeat steps 3-4 until no point changes which centroid it belongs to"
      ],
      "execution_count": null,
      "outputs": []
    },
    {
      "cell_type": "code",
      "metadata": {
        "id": "NyBW-48gU4jw"
      },
      "source": [
        "# Hidden Markov Models\r\n",
        "# - Probability Distribution"
      ],
      "execution_count": null,
      "outputs": []
    },
    {
      "cell_type": "code",
      "metadata": {
        "id": "vtep8ohjy8YH"
      },
      "source": [
        "%tensorflow_version 2.x\r\n",
        "import tensorflow_probability as tfp\r\n",
        "import tensorflow as tf"
      ],
      "execution_count": 1,
      "outputs": []
    },
    {
      "cell_type": "code",
      "metadata": {
        "id": "UeeP7V1-zF5P"
      },
      "source": [
        "# 1. Cold days are encoded by a 0 and hot days are encoded by 1\r\n",
        "# 2. The first day in our sequence has an 80% chance of being cold\r\n",
        "# 3. A cold day has a 30% chance of being followed by a hot day\r\n",
        "# 4. A hot day has a 20% chance of being followed by a cold day\r\n",
        "# 5. On each day the temperature is normally distributed with mean and standard deviation 0 and 5 on a cold day and mean and standard deviation 15 and 10\r\n",
        "# on a hot day\r\n",
        "\r\n",
        "tfd = tfp.distributions # making a shotcut for later on\r\n",
        "initial_distribution = tfd.Categorical(probs=[0.8, 0.2]) # Refer to point 2 above\r\n",
        "transition_distribution = tfd.Categorical(probs=[[0.7, 0.3],\r\n",
        "                                                 [0.2, 0.8]]) # refer to points 3 and 4 above\r\n",
        "observation_distribution = tfd.Normal(loc=[0., 15.], scale=[5., 10.]) # refer to point 5 above\r\n",
        "\r\n",
        "# the loc argument represents the mean and the scale is the standard deviation"
      ],
      "execution_count": 2,
      "outputs": []
    },
    {
      "cell_type": "code",
      "metadata": {
        "id": "Wxn90blS0mwo"
      },
      "source": [
        "model = tfd.HiddenMarkovModel(\r\n",
        "    initial_distribution=initial_distribution,\r\n",
        "    transition_distribution=transition_distribution,\r\n",
        "    observation_distribution=observation_distribution,\r\n",
        "    num_steps=7\r\n",
        ")"
      ],
      "execution_count": 3,
      "outputs": []
    },
    {
      "cell_type": "code",
      "metadata": {
        "colab": {
          "base_uri": "https://localhost:8080/"
        },
        "id": "1_kD3XpA1H3P",
        "outputId": "5d5683bb-72f2-4a9e-e946-1422d13d9194"
      },
      "source": [
        "mean = model.mean()\r\n",
        "\r\n",
        "with tf.compat.v1.Session() as sess:\r\n",
        "  print(mean.numpy())\r\n",
        "\r\n",
        "# temperature each day"
      ],
      "execution_count": 4,
      "outputs": [
        {
          "output_type": "stream",
          "text": [
            "[2.9999998 5.9999995 7.4999995 8.25      8.625001  8.812501  8.90625  ]\n"
          ],
          "name": "stdout"
        }
      ]
    }
  ]
}