{
  "nbformat": 4,
  "nbformat_minor": 0,
  "metadata": {
    "colab": {
      "name": "TensorFlowCoreLearningAlgorithms-Classification.ipynb",
      "provenance": [],
      "collapsed_sections": [],
      "authorship_tag": "ABX9TyPWxTHGDL0M+b1dkDFzxYHW",
      "include_colab_link": true
    },
    "kernelspec": {
      "name": "python3",
      "display_name": "Python 3"
    }
  },
  "cells": [
    {
      "cell_type": "markdown",
      "metadata": {
        "id": "view-in-github",
        "colab_type": "text"
      },
      "source": [
        "<a href=\"https://colab.research.google.com/github/crshao/tensorflow-python-neural-networks/blob/main/TensorFlowCoreLearningAlgorithms_Classification.ipynb\" target=\"_parent\"><img src=\"https://colab.research.google.com/assets/colab-badge.svg\" alt=\"Open In Colab\"/></a>"
      ]
    },
    {
      "cell_type": "code",
      "metadata": {
        "id": "OJyNA6jTtxvW"
      },
      "source": [
        "#Classfication\r\n",
        "\r\n",
        "#Setup\r\n",
        "%tensorflow_version 2.x\r\n",
        "from __future__ import absolute_import, division, print_function, unicode_literals\r\n",
        "import tensorflow as tf\r\n",
        "import pandas as pd"
      ],
      "execution_count": 1,
      "outputs": []
    },
    {
      "cell_type": "code",
      "metadata": {
        "id": "g_0e43hKuKGX"
      },
      "source": [
        "CSV_COLUMN_NAMES = ['SepalLength', 'SepalWidth', 'PetalLength', 'PetalWidth', 'Species']\r\n",
        "SPECIES = ['Setosa', 'Versicolor', 'Virginica']"
      ],
      "execution_count": 2,
      "outputs": []
    },
    {
      "cell_type": "code",
      "metadata": {
        "colab": {
          "base_uri": "https://localhost:8080/"
        },
        "id": "zQ2okT8ZuZkD",
        "outputId": "1946e7be-fd7f-4238-e0b4-ad0ba2cd1a8f"
      },
      "source": [
        "train_path = tf.keras.utils.get_file(\r\n",
        "    \"iris_training.csv\", \"https://storage.googleapis.com/download.tensorflow.org/data/iris_training.csv\"\r\n",
        ")\r\n",
        "\r\n",
        "test_path = tf.keras.utils.get_file(\r\n",
        "    \"iris_test.csv\", \"https://storage.googleapis.com/download.tensorflow.org/data/iris_test.csv\"\r\n",
        ")\r\n",
        "\r\n",
        "train = pd.read_csv(train_path, names=CSV_COLUMN_NAMES, header=0)\r\n",
        "test = pd.read_csv(test_path, names=CSV_COLUMN_NAMES, header=0)\r\n",
        "# Here we use keras (a module inside of TensorFlow) to grab our datasets and read them into a pandas dataframe"
      ],
      "execution_count": 3,
      "outputs": [
        {
          "output_type": "stream",
          "text": [
            "Downloading data from https://storage.googleapis.com/download.tensorflow.org/data/iris_training.csv\n",
            "8192/2194 [================================================================================================================] - 0s 0us/step\n",
            "Downloading data from https://storage.googleapis.com/download.tensorflow.org/data/iris_test.csv\n",
            "8192/573 [============================================================================================================================================================================================================================================================================================================================================================================================================================================] - 0s 0us/step\n"
          ],
          "name": "stdout"
        }
      ]
    },
    {
      "cell_type": "code",
      "metadata": {
        "colab": {
          "base_uri": "https://localhost:8080/",
          "height": 204
        },
        "id": "JPWcSYMzvKD0",
        "outputId": "b6e11dea-50ec-4b95-fead-8d10073e96e8"
      },
      "source": [
        "train.head()"
      ],
      "execution_count": 4,
      "outputs": [
        {
          "output_type": "execute_result",
          "data": {
            "text/html": [
              "<div>\n",
              "<style scoped>\n",
              "    .dataframe tbody tr th:only-of-type {\n",
              "        vertical-align: middle;\n",
              "    }\n",
              "\n",
              "    .dataframe tbody tr th {\n",
              "        vertical-align: top;\n",
              "    }\n",
              "\n",
              "    .dataframe thead th {\n",
              "        text-align: right;\n",
              "    }\n",
              "</style>\n",
              "<table border=\"1\" class=\"dataframe\">\n",
              "  <thead>\n",
              "    <tr style=\"text-align: right;\">\n",
              "      <th></th>\n",
              "      <th>SepalLength</th>\n",
              "      <th>SepalWidth</th>\n",
              "      <th>PetalLength</th>\n",
              "      <th>PetalWidth</th>\n",
              "      <th>Species</th>\n",
              "    </tr>\n",
              "  </thead>\n",
              "  <tbody>\n",
              "    <tr>\n",
              "      <th>0</th>\n",
              "      <td>6.4</td>\n",
              "      <td>2.8</td>\n",
              "      <td>5.6</td>\n",
              "      <td>2.2</td>\n",
              "      <td>2</td>\n",
              "    </tr>\n",
              "    <tr>\n",
              "      <th>1</th>\n",
              "      <td>5.0</td>\n",
              "      <td>2.3</td>\n",
              "      <td>3.3</td>\n",
              "      <td>1.0</td>\n",
              "      <td>1</td>\n",
              "    </tr>\n",
              "    <tr>\n",
              "      <th>2</th>\n",
              "      <td>4.9</td>\n",
              "      <td>2.5</td>\n",
              "      <td>4.5</td>\n",
              "      <td>1.7</td>\n",
              "      <td>2</td>\n",
              "    </tr>\n",
              "    <tr>\n",
              "      <th>3</th>\n",
              "      <td>4.9</td>\n",
              "      <td>3.1</td>\n",
              "      <td>1.5</td>\n",
              "      <td>0.1</td>\n",
              "      <td>0</td>\n",
              "    </tr>\n",
              "    <tr>\n",
              "      <th>4</th>\n",
              "      <td>5.7</td>\n",
              "      <td>3.8</td>\n",
              "      <td>1.7</td>\n",
              "      <td>0.3</td>\n",
              "      <td>0</td>\n",
              "    </tr>\n",
              "  </tbody>\n",
              "</table>\n",
              "</div>"
            ],
            "text/plain": [
              "   SepalLength  SepalWidth  PetalLength  PetalWidth  Species\n",
              "0          6.4         2.8          5.6         2.2        2\n",
              "1          5.0         2.3          3.3         1.0        1\n",
              "2          4.9         2.5          4.5         1.7        2\n",
              "3          4.9         3.1          1.5         0.1        0\n",
              "4          5.7         3.8          1.7         0.3        0"
            ]
          },
          "metadata": {
            "tags": []
          },
          "execution_count": 4
        }
      ]
    },
    {
      "cell_type": "code",
      "metadata": {
        "colab": {
          "base_uri": "https://localhost:8080/",
          "height": 204
        },
        "id": "axXvkPZWvNAx",
        "outputId": "670ec779-6362-4731-b163-02ad1cb27b3f"
      },
      "source": [
        "train_y = train.pop('Species')\r\n",
        "test_y = test.pop('Species')\r\n",
        "train.head() # Species column is now popped"
      ],
      "execution_count": 5,
      "outputs": [
        {
          "output_type": "execute_result",
          "data": {
            "text/html": [
              "<div>\n",
              "<style scoped>\n",
              "    .dataframe tbody tr th:only-of-type {\n",
              "        vertical-align: middle;\n",
              "    }\n",
              "\n",
              "    .dataframe tbody tr th {\n",
              "        vertical-align: top;\n",
              "    }\n",
              "\n",
              "    .dataframe thead th {\n",
              "        text-align: right;\n",
              "    }\n",
              "</style>\n",
              "<table border=\"1\" class=\"dataframe\">\n",
              "  <thead>\n",
              "    <tr style=\"text-align: right;\">\n",
              "      <th></th>\n",
              "      <th>SepalLength</th>\n",
              "      <th>SepalWidth</th>\n",
              "      <th>PetalLength</th>\n",
              "      <th>PetalWidth</th>\n",
              "    </tr>\n",
              "  </thead>\n",
              "  <tbody>\n",
              "    <tr>\n",
              "      <th>0</th>\n",
              "      <td>6.4</td>\n",
              "      <td>2.8</td>\n",
              "      <td>5.6</td>\n",
              "      <td>2.2</td>\n",
              "    </tr>\n",
              "    <tr>\n",
              "      <th>1</th>\n",
              "      <td>5.0</td>\n",
              "      <td>2.3</td>\n",
              "      <td>3.3</td>\n",
              "      <td>1.0</td>\n",
              "    </tr>\n",
              "    <tr>\n",
              "      <th>2</th>\n",
              "      <td>4.9</td>\n",
              "      <td>2.5</td>\n",
              "      <td>4.5</td>\n",
              "      <td>1.7</td>\n",
              "    </tr>\n",
              "    <tr>\n",
              "      <th>3</th>\n",
              "      <td>4.9</td>\n",
              "      <td>3.1</td>\n",
              "      <td>1.5</td>\n",
              "      <td>0.1</td>\n",
              "    </tr>\n",
              "    <tr>\n",
              "      <th>4</th>\n",
              "      <td>5.7</td>\n",
              "      <td>3.8</td>\n",
              "      <td>1.7</td>\n",
              "      <td>0.3</td>\n",
              "    </tr>\n",
              "  </tbody>\n",
              "</table>\n",
              "</div>"
            ],
            "text/plain": [
              "   SepalLength  SepalWidth  PetalLength  PetalWidth\n",
              "0          6.4         2.8          5.6         2.2\n",
              "1          5.0         2.3          3.3         1.0\n",
              "2          4.9         2.5          4.5         1.7\n",
              "3          4.9         3.1          1.5         0.1\n",
              "4          5.7         3.8          1.7         0.3"
            ]
          },
          "metadata": {
            "tags": []
          },
          "execution_count": 5
        }
      ]
    },
    {
      "cell_type": "code",
      "metadata": {
        "colab": {
          "base_uri": "https://localhost:8080/"
        },
        "id": "Cl0Q9bAtvXEv",
        "outputId": "e4f35546-1230-48f2-e992-d9a1ce362d8e"
      },
      "source": [
        "train.shape # 120 entries and 4 features"
      ],
      "execution_count": 6,
      "outputs": [
        {
          "output_type": "execute_result",
          "data": {
            "text/plain": [
              "(120, 4)"
            ]
          },
          "metadata": {
            "tags": []
          },
          "execution_count": 6
        }
      ]
    },
    {
      "cell_type": "code",
      "metadata": {
        "id": "6eavw51bvcUm"
      },
      "source": [
        "# Input Function\r\n",
        "\r\n",
        "def input_fn(features, labels, training=True, batch_size=256):\r\n",
        "  # Convert the inputs to a Dataset\r\n",
        "  dataset = tf.data.Dataset.from_tensor_slices((dict(features), labels))\r\n",
        "  \r\n",
        "  # Shuffle and repeat if you are in training mode\r\n",
        "  if training:\r\n",
        "    dataset = dataset.shuffle(1000).repeat()\r\n",
        "\r\n",
        "  return dataset.batch(batch_size)"
      ],
      "execution_count": 7,
      "outputs": []
    },
    {
      "cell_type": "code",
      "metadata": {
        "colab": {
          "base_uri": "https://localhost:8080/"
        },
        "id": "RzZwOftM1GYa",
        "outputId": "ae36b2e6-1a32-4d8e-a478-cb2f8d21854b"
      },
      "source": [
        "# Feature columns describe how to use the input\r\n",
        "\r\n",
        "my_feature_columns = []\r\n",
        "for key in train.keys():\r\n",
        "  my_feature_columns.append(tf.feature_column.numeric_column(key=key))\r\n",
        "print(my_feature_columns)  "
      ],
      "execution_count": 8,
      "outputs": [
        {
          "output_type": "stream",
          "text": [
            "[NumericColumn(key='SepalLength', shape=(1,), default_value=None, dtype=tf.float32, normalizer_fn=None), NumericColumn(key='SepalWidth', shape=(1,), default_value=None, dtype=tf.float32, normalizer_fn=None), NumericColumn(key='PetalLength', shape=(1,), default_value=None, dtype=tf.float32, normalizer_fn=None), NumericColumn(key='PetalWidth', shape=(1,), default_value=None, dtype=tf.float32, normalizer_fn=None)]\n"
          ],
          "name": "stdout"
        }
      ]
    },
    {
      "cell_type": "code",
      "metadata": {
        "colab": {
          "base_uri": "https://localhost:8080/"
        },
        "id": "FsKUseCk1oba",
        "outputId": "ed1d4d19-7342-43ac-8760-ea9a5acd005e"
      },
      "source": [
        "# Build a DNN with 2 hidden layers with 30 and 10 hidden nodes each\r\n",
        "classifier = tf.estimator.DNNClassifier(\r\n",
        "    feature_columns=my_feature_columns,\r\n",
        "    # Two hidden layers of 30 and 10 nodes respectively\r\n",
        "    hidden_units=[30, 10],\r\n",
        "    # The model must choose between 3 classes.\r\n",
        "    n_classes=3\r\n",
        ")"
      ],
      "execution_count": 9,
      "outputs": [
        {
          "output_type": "stream",
          "text": [
            "INFO:tensorflow:Using default config.\n",
            "WARNING:tensorflow:Using temporary folder as model directory: /tmp/tmp4in0ht52\n",
            "INFO:tensorflow:Using config: {'_model_dir': '/tmp/tmp4in0ht52', '_tf_random_seed': None, '_save_summary_steps': 100, '_save_checkpoints_steps': None, '_save_checkpoints_secs': 600, '_session_config': allow_soft_placement: true\n",
            "graph_options {\n",
            "  rewrite_options {\n",
            "    meta_optimizer_iterations: ONE\n",
            "  }\n",
            "}\n",
            ", '_keep_checkpoint_max': 5, '_keep_checkpoint_every_n_hours': 10000, '_log_step_count_steps': 100, '_train_distribute': None, '_device_fn': None, '_protocol': None, '_eval_distribute': None, '_experimental_distribute': None, '_experimental_max_worker_delay_secs': None, '_session_creation_timeout_secs': 7200, '_checkpoint_save_graph_def': True, '_service': None, '_cluster_spec': ClusterSpec({}), '_task_type': 'worker', '_task_id': 0, '_global_id_in_cluster': 0, '_master': '', '_evaluation_master': '', '_is_chief': True, '_num_ps_replicas': 0, '_num_worker_replicas': 1}\n"
          ],
          "name": "stdout"
        }
      ]
    },
    {
      "cell_type": "code",
      "metadata": {
        "id": "VKy7FMdl2Xlq",
        "colab": {
          "base_uri": "https://localhost:8080/"
        },
        "outputId": "87742d9d-8d66-43ae-f604-1e59f4d06e91"
      },
      "source": [
        "# Training\r\n",
        "\r\n",
        "classifier.train(\r\n",
        "    input_fn=lambda: input_fn(train, train_y, training=True),\r\n",
        "    steps=5000\r\n",
        ")"
      ],
      "execution_count": 10,
      "outputs": [
        {
          "output_type": "stream",
          "text": [
            "WARNING:tensorflow:From /usr/local/lib/python3.6/dist-packages/tensorflow/python/training/training_util.py:236: Variable.initialized_value (from tensorflow.python.ops.variables) is deprecated and will be removed in a future version.\n",
            "Instructions for updating:\n",
            "Use Variable.read_value. Variables in 2.X are initialized automatically both in eager and graph (inside tf.defun) contexts.\n",
            "INFO:tensorflow:Calling model_fn.\n",
            "WARNING:tensorflow:From /usr/local/lib/python3.6/dist-packages/tensorflow/python/keras/optimizer_v2/adagrad.py:83: calling Constant.__init__ (from tensorflow.python.ops.init_ops) with dtype is deprecated and will be removed in a future version.\n",
            "Instructions for updating:\n",
            "Call initializer instance with the dtype argument instead of passing it to the constructor\n",
            "INFO:tensorflow:Done calling model_fn.\n",
            "INFO:tensorflow:Create CheckpointSaverHook.\n",
            "INFO:tensorflow:Graph was finalized.\n",
            "INFO:tensorflow:Running local_init_op.\n",
            "INFO:tensorflow:Done running local_init_op.\n",
            "INFO:tensorflow:Calling checkpoint listeners before saving checkpoint 0...\n",
            "INFO:tensorflow:Saving checkpoints for 0 into /tmp/tmp4in0ht52/model.ckpt.\n",
            "INFO:tensorflow:Calling checkpoint listeners after saving checkpoint 0...\n",
            "INFO:tensorflow:loss = 1.121496, step = 0\n",
            "INFO:tensorflow:global_step/sec: 445.222\n",
            "INFO:tensorflow:loss = 1.0485176, step = 100 (0.226 sec)\n",
            "INFO:tensorflow:global_step/sec: 577.701\n",
            "INFO:tensorflow:loss = 1.0340481, step = 200 (0.176 sec)\n",
            "INFO:tensorflow:global_step/sec: 568.096\n",
            "INFO:tensorflow:loss = 1.0162137, step = 300 (0.176 sec)\n",
            "INFO:tensorflow:global_step/sec: 575.872\n",
            "INFO:tensorflow:loss = 1.0056932, step = 400 (0.171 sec)\n",
            "INFO:tensorflow:global_step/sec: 600.637\n",
            "INFO:tensorflow:loss = 0.99132246, step = 500 (0.169 sec)\n",
            "INFO:tensorflow:global_step/sec: 562.818\n",
            "INFO:tensorflow:loss = 0.9626299, step = 600 (0.175 sec)\n",
            "INFO:tensorflow:global_step/sec: 586.567\n",
            "INFO:tensorflow:loss = 0.9516036, step = 700 (0.171 sec)\n",
            "INFO:tensorflow:global_step/sec: 567.181\n",
            "INFO:tensorflow:loss = 0.93720996, step = 800 (0.179 sec)\n",
            "INFO:tensorflow:global_step/sec: 568.809\n",
            "INFO:tensorflow:loss = 0.9141045, step = 900 (0.175 sec)\n",
            "INFO:tensorflow:global_step/sec: 568.345\n",
            "INFO:tensorflow:loss = 0.8918518, step = 1000 (0.177 sec)\n",
            "INFO:tensorflow:global_step/sec: 568.983\n",
            "INFO:tensorflow:loss = 0.8709692, step = 1100 (0.176 sec)\n",
            "INFO:tensorflow:global_step/sec: 529.675\n",
            "INFO:tensorflow:loss = 0.8566978, step = 1200 (0.185 sec)\n",
            "INFO:tensorflow:global_step/sec: 586.364\n",
            "INFO:tensorflow:loss = 0.8393852, step = 1300 (0.171 sec)\n",
            "INFO:tensorflow:global_step/sec: 549.171\n",
            "INFO:tensorflow:loss = 0.8162999, step = 1400 (0.185 sec)\n",
            "INFO:tensorflow:global_step/sec: 553.451\n",
            "INFO:tensorflow:loss = 0.8066449, step = 1500 (0.179 sec)\n",
            "INFO:tensorflow:global_step/sec: 546.491\n",
            "INFO:tensorflow:loss = 0.7868471, step = 1600 (0.183 sec)\n",
            "INFO:tensorflow:global_step/sec: 554.856\n",
            "INFO:tensorflow:loss = 0.77199066, step = 1700 (0.180 sec)\n",
            "INFO:tensorflow:global_step/sec: 572.438\n",
            "INFO:tensorflow:loss = 0.7607265, step = 1800 (0.175 sec)\n",
            "INFO:tensorflow:global_step/sec: 578.768\n",
            "INFO:tensorflow:loss = 0.7441933, step = 1900 (0.175 sec)\n",
            "INFO:tensorflow:global_step/sec: 561.93\n",
            "INFO:tensorflow:loss = 0.7251706, step = 2000 (0.174 sec)\n",
            "INFO:tensorflow:global_step/sec: 593.796\n",
            "INFO:tensorflow:loss = 0.7321894, step = 2100 (0.169 sec)\n",
            "INFO:tensorflow:global_step/sec: 592.794\n",
            "INFO:tensorflow:loss = 0.71819365, step = 2200 (0.168 sec)\n",
            "INFO:tensorflow:global_step/sec: 550.697\n",
            "INFO:tensorflow:loss = 0.7076295, step = 2300 (0.184 sec)\n",
            "INFO:tensorflow:global_step/sec: 574.759\n",
            "INFO:tensorflow:loss = 0.6903273, step = 2400 (0.174 sec)\n",
            "INFO:tensorflow:global_step/sec: 539.899\n",
            "INFO:tensorflow:loss = 0.66889477, step = 2500 (0.185 sec)\n",
            "INFO:tensorflow:global_step/sec: 523.296\n",
            "INFO:tensorflow:loss = 0.6563045, step = 2600 (0.188 sec)\n",
            "INFO:tensorflow:global_step/sec: 574.557\n",
            "INFO:tensorflow:loss = 0.6570468, step = 2700 (0.177 sec)\n",
            "INFO:tensorflow:global_step/sec: 572.798\n",
            "INFO:tensorflow:loss = 0.65393853, step = 2800 (0.177 sec)\n",
            "INFO:tensorflow:global_step/sec: 569.622\n",
            "INFO:tensorflow:loss = 0.6293029, step = 2900 (0.171 sec)\n",
            "INFO:tensorflow:global_step/sec: 559.985\n",
            "INFO:tensorflow:loss = 0.62952507, step = 3000 (0.177 sec)\n",
            "INFO:tensorflow:global_step/sec: 538.128\n",
            "INFO:tensorflow:loss = 0.60666305, step = 3100 (0.186 sec)\n",
            "INFO:tensorflow:global_step/sec: 521.608\n",
            "INFO:tensorflow:loss = 0.60609066, step = 3200 (0.195 sec)\n",
            "INFO:tensorflow:global_step/sec: 535.303\n",
            "INFO:tensorflow:loss = 0.60658574, step = 3300 (0.184 sec)\n",
            "INFO:tensorflow:global_step/sec: 486.241\n",
            "INFO:tensorflow:loss = 0.58657146, step = 3400 (0.205 sec)\n",
            "INFO:tensorflow:global_step/sec: 550.572\n",
            "INFO:tensorflow:loss = 0.59560126, step = 3500 (0.183 sec)\n",
            "INFO:tensorflow:global_step/sec: 564.735\n",
            "INFO:tensorflow:loss = 0.5720638, step = 3600 (0.176 sec)\n",
            "INFO:tensorflow:global_step/sec: 571.007\n",
            "INFO:tensorflow:loss = 0.5718303, step = 3700 (0.178 sec)\n",
            "INFO:tensorflow:global_step/sec: 530.742\n",
            "INFO:tensorflow:loss = 0.55816406, step = 3800 (0.189 sec)\n",
            "INFO:tensorflow:global_step/sec: 596.047\n",
            "INFO:tensorflow:loss = 0.5516069, step = 3900 (0.165 sec)\n",
            "INFO:tensorflow:global_step/sec: 548.34\n",
            "INFO:tensorflow:loss = 0.5560685, step = 4000 (0.182 sec)\n",
            "INFO:tensorflow:global_step/sec: 565.895\n",
            "INFO:tensorflow:loss = 0.52327895, step = 4100 (0.180 sec)\n",
            "INFO:tensorflow:global_step/sec: 531.33\n",
            "INFO:tensorflow:loss = 0.5382793, step = 4200 (0.189 sec)\n",
            "INFO:tensorflow:global_step/sec: 566.326\n",
            "INFO:tensorflow:loss = 0.5169247, step = 4300 (0.176 sec)\n",
            "INFO:tensorflow:global_step/sec: 543.252\n",
            "INFO:tensorflow:loss = 0.51622343, step = 4400 (0.184 sec)\n",
            "INFO:tensorflow:global_step/sec: 515.539\n",
            "INFO:tensorflow:loss = 0.5144642, step = 4500 (0.195 sec)\n",
            "INFO:tensorflow:global_step/sec: 544.455\n",
            "INFO:tensorflow:loss = 0.51697975, step = 4600 (0.180 sec)\n",
            "INFO:tensorflow:global_step/sec: 516.966\n",
            "INFO:tensorflow:loss = 0.49429286, step = 4700 (0.194 sec)\n",
            "INFO:tensorflow:global_step/sec: 530.022\n",
            "INFO:tensorflow:loss = 0.50365025, step = 4800 (0.188 sec)\n",
            "INFO:tensorflow:global_step/sec: 561.969\n",
            "INFO:tensorflow:loss = 0.5201155, step = 4900 (0.181 sec)\n",
            "INFO:tensorflow:Calling checkpoint listeners before saving checkpoint 5000...\n",
            "INFO:tensorflow:Saving checkpoints for 5000 into /tmp/tmp4in0ht52/model.ckpt.\n",
            "INFO:tensorflow:Calling checkpoint listeners after saving checkpoint 5000...\n",
            "INFO:tensorflow:Loss for final step: 0.4822318.\n"
          ],
          "name": "stdout"
        },
        {
          "output_type": "execute_result",
          "data": {
            "text/plain": [
              "<tensorflow_estimator.python.estimator.canned.dnn.DNNClassifierV2 at 0x7fecbaae6860>"
            ]
          },
          "metadata": {
            "tags": []
          },
          "execution_count": 10
        }
      ]
    },
    {
      "cell_type": "code",
      "metadata": {
        "colab": {
          "base_uri": "https://localhost:8080/"
        },
        "id": "G1u4q5hV3x_V",
        "outputId": "705dc585-5195-4783-9305-19a475a08144"
      },
      "source": [
        "eval_result = classifier.evaluate(input_fn=lambda: input_fn(test, test_y, training=False))\r\n",
        "\r\n",
        "print('\\nTest set accuracy: {accuracy:0.3f}\\n'.format(**eval_result))"
      ],
      "execution_count": 11,
      "outputs": [
        {
          "output_type": "stream",
          "text": [
            "INFO:tensorflow:Calling model_fn.\n",
            "INFO:tensorflow:Done calling model_fn.\n",
            "INFO:tensorflow:Starting evaluation at 2021-01-28T04:35:06Z\n",
            "INFO:tensorflow:Graph was finalized.\n",
            "INFO:tensorflow:Restoring parameters from /tmp/tmp4in0ht52/model.ckpt-5000\n",
            "INFO:tensorflow:Running local_init_op.\n",
            "INFO:tensorflow:Done running local_init_op.\n",
            "INFO:tensorflow:Inference Time : 0.25977s\n",
            "INFO:tensorflow:Finished evaluation at 2021-01-28-04:35:07\n",
            "INFO:tensorflow:Saving dict for global step 5000: accuracy = 0.76666665, average_loss = 0.56857306, global_step = 5000, loss = 0.56857306\n",
            "INFO:tensorflow:Saving 'checkpoint_path' summary for global step 5000: /tmp/tmp4in0ht52/model.ckpt-5000\n",
            "\n",
            "Test set accuracy: 0.767\n",
            "\n"
          ],
          "name": "stdout"
        }
      ]
    },
    {
      "cell_type": "code",
      "metadata": {
        "id": "cwILiHaJ4ToP",
        "colab": {
          "base_uri": "https://localhost:8080/"
        },
        "outputId": "02c15903-fd20-46d1-ae04-491a7b3a281d"
      },
      "source": [
        "# Predictions\r\n",
        "\r\n",
        "def input_fn(features, batch_size=256):\r\n",
        "  # Convert the inputs to a Dataset without labels.\r\n",
        "  return tf.data.Dataset.from_tensor_slices(dict(features)).batch(batch_size)\r\n",
        "\r\n",
        "features = ['SepalLength', 'SepalWidth', 'PetalLength', 'PetalWidth']\r\n",
        "predict = {}\r\n",
        "\r\n",
        "print(\"Please type numeric values as prompted\")\r\n",
        "for feature in features:\r\n",
        "  valid = True\r\n",
        "  while valid:\r\n",
        "    val = input(feature + \": \")\r\n",
        "    if not val.isdigit(): valid = False\r\n",
        "\r\n",
        "  predict[feature] = [float(val)]\r\n",
        "\r\n",
        "predictions = classifier.predict(input_fn=lambda: input_fn(predict))\r\n",
        "for pred_dict in predictions:\r\n",
        "  class_id = pred_dict['class_ids'][0]\r\n",
        "  probability = pred_dict['probabilities'][class_id]\r\n",
        "\r\n",
        "  print('Prediction is \"{}\" ({:.1f}%)'.format(\r\n",
        "      SPECIES[class_id], 100 * probability\r\n",
        "  ))"
      ],
      "execution_count": 15,
      "outputs": [
        {
          "output_type": "stream",
          "text": [
            "Please type numeric values as prompted\n",
            "SepalLength: 1.2\n",
            "SepalWidth: 1.2\n",
            "PetalLength: 1.2\n",
            "PetalWidth: 1.2\n",
            "INFO:tensorflow:Calling model_fn.\n",
            "INFO:tensorflow:Done calling model_fn.\n",
            "INFO:tensorflow:Graph was finalized.\n",
            "INFO:tensorflow:Restoring parameters from /tmp/tmp4in0ht52/model.ckpt-5000\n",
            "INFO:tensorflow:Running local_init_op.\n",
            "INFO:tensorflow:Done running local_init_op.\n",
            "Prediction is \"Versicolor\" (37.0)\n"
          ],
          "name": "stdout"
        }
      ]
    }
  ]
}